{
 "cells": [
  {
   "cell_type": "markdown",
   "metadata": {},
   "source": [
    "# Redes Neuronales"
   ]
  },
  {
   "cell_type": "markdown",
   "metadata": {},
   "source": [
    "## Referencias:"
   ]
  },
  {
   "cell_type": "markdown",
   "metadata": {},
   "source": [
    "Neural Networks - A Systematic Introduction<br>\n",
    "a book by Raul Rojas<br>\n",
    "http://page.mi.fu-berlin.de/rojas/neural/index.html<br>\n",
    "(Iniciando lectura)"
   ]
  },
  {
   "cell_type": "markdown",
   "metadata": {},
   "source": [
    "Tensorflow<br>\n",
    "API Documentation<br>\n",
    "https://www.tensorflow.org/api_docs/<br>\n",
    "(Iniciando lectura)"
   ]
  },
  {
   "cell_type": "markdown",
   "metadata": {},
   "source": [
    "Machine Learning Crash Course (MLCC)<br>\n",
    "On March 1, 2018, Google released its Machine Learning Crash Course (MLCC). Originally designed to help equip Google employees with practical artificial intelligence and machine learning fundamentals, Google rolled out its free [TensorFlow](https://www.tensorflow.org) workshops in several cities around the world before finally releasing the course to the public.<br>\n",
    "https://developers.google.com/machine-learning/crash-course/<br>\n",
    "(Iniciando lectura)"
   ]
  },
  {
   "cell_type": "markdown",
   "metadata": {},
   "source": [
    "**Nota:** Usaré [Jupyter](https://en.wikipedia.org/wiki/Project_Jupyter) en mi bitácora, pues con [markdown](https://en.wikipedia.org/wiki/Markdown) puedo incluir enlaces, escribir fórmulas con $\\LaTeX$ y exportar a PDF (entre muchas otras cosas).<br>"
   ]
  },
  {
   "cell_type": "markdown",
   "metadata": {},
   "source": [
    "### Guias de sintaxis de markdown:"
   ]
  },
  {
   "cell_type": "markdown",
   "metadata": {},
   "source": [
    "https://markdown.es/sintaxis-markdown/ <br>\n",
    "https://github.com/adam-p/markdown-here/wiki/Markdown-Cheatsheet <br>"
   ]
  },
  {
   "cell_type": "markdown",
   "metadata": {},
   "source": [
    "### Documentación de LATEX:"
   ]
  },
  {
   "cell_type": "markdown",
   "metadata": {},
   "source": [
    "https://www.latex-project.org/help/documentation/"
   ]
  },
  {
   "cell_type": "markdown",
   "metadata": {},
   "source": [
    "*Ésta es una prueba de $\\LaTeX$ en Jupyter usando markdown:*<br>\n",
    "\n",
    "$$\\Phi_{\\mu, \\sigma^{2}} (x) = \\dfrac{1}{\\sigma \\sqrt{2 \\pi}} \\int_{-\\infty}^{x} e^{-\\dfrac{(u- \\mu)^{2}}{2 \\sigma^{2}}} du $$"
   ]
  },
  {
   "cell_type": "markdown",
   "metadata": {},
   "source": [
    "### Documentacion de Python:"
   ]
  },
  {
   "cell_type": "markdown",
   "metadata": {},
   "source": [
    "https://docs.python.org/3/library/index.html"
   ]
  },
  {
   "cell_type": "markdown",
   "metadata": {},
   "source": [
    "*Ésta es una prueba de Python en Jupyter:*"
   ]
  },
  {
   "cell_type": "code",
   "execution_count": 3,
   "metadata": {},
   "outputs": [],
   "source": [
    "def insertionSort(A):\n",
    "    for j in range(1,len(A)):\n",
    "        key = A[j]\n",
    "        i=j-1\n",
    "        while i >= 0 and A[i] > key:\n",
    "            A[i+1] = A[i]\n",
    "            i-=1\n",
    "        A[i+1] = key\n",
    "    return A"
   ]
  },
  {
   "cell_type": "code",
   "execution_count": 5,
   "metadata": {},
   "outputs": [
    {
     "name": "stdout",
     "output_type": "stream",
     "text": [
      "[1, 2, 2, 3, 4, 5, 5, 6, 8, 8, 8, 9]\n",
      "[1, 2, 3, 4, 5, 6, 7, 8, 9]\n"
     ]
    }
   ],
   "source": [
    "A = [5,4,2,8,5,6,8,2,8,1,9,3]\n",
    "B = [9,8,7,6,5,4,3,2,1]\n",
    "print(insertionSort(A))\n",
    "print(insertionSort(B))"
   ]
  },
  {
   "cell_type": "code",
   "execution_count": null,
   "metadata": {},
   "outputs": [],
   "source": []
  }
 ],
 "metadata": {
  "kernelspec": {
   "display_name": "Python 3",
   "language": "python",
   "name": "python3"
  },
  "language_info": {
   "codemirror_mode": {
    "name": "ipython",
    "version": 3
   },
   "file_extension": ".py",
   "mimetype": "text/x-python",
   "name": "python",
   "nbconvert_exporter": "python",
   "pygments_lexer": "ipython3",
   "version": "3.6.4"
  }
 },
 "nbformat": 4,
 "nbformat_minor": 2
}
